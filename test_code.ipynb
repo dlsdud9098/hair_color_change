{
 "cells": [
  {
   "cell_type": "code",
   "execution_count": 1,
   "metadata": {},
   "outputs": [],
   "source": [
    "import urllib.request\n",
    "from PIL import Image\n",
    "import cv2\n",
    "import numpy as np\n",
    "import os"
   ]
  },
  {
   "cell_type": "code",
   "execution_count": 18,
   "metadata": {},
   "outputs": [],
   "source": [
    "url = 'https://i.namu.wiki/i/u51UavdcnI7WObrWkuv8GAb3tOmvv1ANIsd5AV9nFx6iBtWe4UEdc2Q3ngt-8YuPLWjkuU1AtOpjE1FtWiqmItCEufvu3Q5toOKJdVth9RBbS76TuqCcDNPmd7IlxIYD1uwawVgKjhS9bYLRr_kAJA.webp' \n",
    "url = 'https://img.khan.co.kr/news/2023/01/02/news-p.v1.20230102.1f95577a65fc42a79ae7f990b39e7c21_P1.png' \n",
    "\n",
    "image = urllib.request.urlopen(url)\n",
    "image = Image.open(image)\n",
    "image = np.array(image)\n",
    "image = cv2.cvtColor(image, cv2.COLOR_RGB2BGR)\n",
    "\n",
    "cv2.imshow('Image', image)\n",
    "cv2.waitKey(0)\n",
    "cv2.destroyAllWindows()"
   ]
  },
  {
   "cell_type": "code",
   "execution_count": 6,
   "metadata": {},
   "outputs": [
    {
     "name": "stdout",
     "output_type": "stream",
     "text": [
      "./image_save/download_img0.png\n"
     ]
    }
   ],
   "source": [
    "image_save_path = './image_save/'\n",
    "url = 'https://img.khan.co.kr/news/2023/01/02/news-p.v1.20230102.1f95577a65fc42a79ae7f990b39e7c21_P1.png' \n",
    "download_path = os.path.join(image_save_path,'download_img/')\n",
    "if not os.path.exists(download_path):\n",
    "    os.makedirs(download_path)\n",
    "file_path = download_path+str(len(os.listdir(download_path)))+'.png'\n",
    "print(file_path)\n",
    "\n",
    "# image = urllib.request.urlopen(url.text())\n",
    "urllib.request.urlretrieve(url, file_path)\n",
    "\n",
    "image = Image.open(file_path)\n",
    "image = np.array(image)\n",
    "image = cv2.cvtColor(image, cv2.COLOR_RGB2BGR)\n",
    "        \n",
    "cv2.imshow('Image', image)\n",
    "cv2.waitKey(0)\n",
    "cv2.destroyAllWindows()"
   ]
  },
  {
   "cell_type": "code",
   "execution_count": null,
   "metadata": {},
   "outputs": [],
   "source": []
  }
 ],
 "metadata": {
  "kernelspec": {
   "display_name": ".venv",
   "language": "python",
   "name": "python3"
  },
  "language_info": {
   "codemirror_mode": {
    "name": "ipython",
    "version": 3
   },
   "file_extension": ".py",
   "mimetype": "text/x-python",
   "name": "python",
   "nbconvert_exporter": "python",
   "pygments_lexer": "ipython3",
   "version": "3.10.14"
  }
 },
 "nbformat": 4,
 "nbformat_minor": 2
}
